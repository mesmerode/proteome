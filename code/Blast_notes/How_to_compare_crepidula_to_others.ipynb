{
 "cells": [
  {
   "cell_type": "markdown",
   "metadata": {},
   "source": [
    "* translate our nucleotides from our mantle sequence into a protein sequence by uploading our 95.2.50.mantle.fasta file onto ~emboss~ and that gave us 6 different protein sequences because each amino acid is made up of triplets of nucleotides. I downloaded the protein file onto my terminal (git directory) by using the curl command and renaming the file name to include protein. Then made a copy of the newly downloaded and renamed file in Blast directory.\n"
   ]
  },
  {
   "cell_type": "markdown",
   "metadata": {},
   "source": [
    "```\n",
    "#downloading it from the browser and renaming it (mv out)\n",
    "curl -O \"http://www.ebi.ac.uk/Tools/services/rest/emboss_transeq/result/emboss_transeq-E20180717-182735-0915-77594089-p2m/out\"\n",
    "mv out 95.2.50.mantle.protein.fasta\n",
    "\n",
    "#copying the original file as the protein sequeced version\n",
    "cp 95.2.50.mantle.protein.fasta \n",
    "\n",
    "#moving the newly copied file into the Blast directory\n",
    "mv 95.2.50.mantle.protein.fasta Users/Milagros/Desktop/Scripps_SURF/Blast/\n",
    "\n",
    "\n",
    "#create a BLAST-able database using sequences from the shell proteome\n",
    "makeblastdb -in 95.2.50.mantle.protein.fasta -dbtype prot -parse_seqids\n",
    "\n",
    "#copy the haliotis file from git to Blast directory\n",
    "cp /Users/Milagros/git/proteome/data/sequences_from_others/marie_et_al_2010_haliotis.fasta /Users/Milagros/Desktop/Scripps_SURF/Blast/\n",
    "\n",
    "#use blast command to align the protein sequences from the marie_et_al_2010_haliotis file and our crepidula protein\n",
    "#-db database it was from, -query the haliotis protein sequence, -out a text file where you're writing your results to\n",
    "blastp -db 95.2.50.mantle.protein.fasta -query marie_et_al_2010_haliotis.fasta -out mantle_vs_marie.out\n",
    "\n",
    "#run another blast command and this time it searched for 'evalues' that were within our range <10e-6\n",
    "blastp -db 95.2.50.mantle.protein.fasta -query marie_et_al_2010_haliotis.fasta -evalue 10e-6 -out mantle_vs_marie_evalue.out\n",
    "\n",
    "#run another blast command but this time its organized more. Use this link to help build the -outfmt string https://www.ncbi.nlm.nih.gov/books/NBK279684/\n",
    "blastp -db 95.2.50.mantle.protein.fasta -query marie_et_al_2010_haliotis.fasta -evalue 10e-6 -out mantle_vs_marie_evalue.out -outfmt \"7 qacc sacc evalue qstart qend sstart send\"\n",
    "\n",
    "\n",
    "```"
   ]
  },
  {
   "cell_type": "markdown",
   "metadata": {},
   "source": []
  }
 ],
 "metadata": {
  "kernelspec": {
   "display_name": "Python 3",
   "language": "python",
   "name": "python3"
  },
  "language_info": {
   "codemirror_mode": {
    "name": "ipython",
    "version": 3
   },
   "file_extension": ".py",
   "mimetype": "text/x-python",
   "name": "python",
   "nbconvert_exporter": "python",
   "pygments_lexer": "ipython3",
   "version": "3.6.5"
  }
 },
 "nbformat": 4,
 "nbformat_minor": 2
}
