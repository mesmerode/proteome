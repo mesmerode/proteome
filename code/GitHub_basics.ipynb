{
 "cells": [
  {
   "cell_type": "markdown",
   "metadata": {},
   "source": [
    "# Learning how to GitHub"
   ]
  },
  {
   "cell_type": "markdown",
   "metadata": {},
   "source": [
    "### Creating a new Git repository on local computer:"
   ]
  },
  {
   "cell_type": "markdown",
   "metadata": {},
   "source": [
    "```\n",
    "cd\n",
    "ls\n",
    "mkdir git\n",
    "cd git\n",
    "ls git\n",
    "mkdir data\n",
    "mkdir code\n",
    "\n",
    "# made a repository on GitHub, proteome\n",
    "git clone https://github.com/mesmerode/proteome\n",
    "cd proteome\n",
    "\n",
    "# make a new branch to hold new changes\n",
    "git branch my-branch\n",
    "\n",
    "# switch to the new branch\n",
    "git checkout my-branch\n",
    "\n",
    "# make a new file\n",
    "touch .gitignore\n",
    "\n",
    "# stage the changed files\n",
    "git add .gitignore\n",
    "git commit -m \"added .gitignore\"\n",
    "git push --set-upstream origin my-branch\n",
    "git add . ##which adds data and code files to proteome \n",
    "\n",
    "# then once on GitHub, open a pull request, and merge the my-branch into master.\n",
    "# do this every time you write code you know works and want to put up on GitHub.\n",
    "\n",
    "```"
   ]
  },
  {
   "cell_type": "markdown",
   "metadata": {},
   "source": []
  }
 ],
 "metadata": {
  "kernelspec": {
   "display_name": "Python 3",
   "language": "python",
   "name": "python3"
  },
  "language_info": {
   "codemirror_mode": {
    "name": "ipython",
    "version": 3
   },
   "file_extension": ".py",
   "mimetype": "text/x-python",
   "name": "python",
   "nbconvert_exporter": "python",
   "pygments_lexer": "ipython3",
   "version": "3.6.5"
  }
 },
 "nbformat": 4,
 "nbformat_minor": 2
}
